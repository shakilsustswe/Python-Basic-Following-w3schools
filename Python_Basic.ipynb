{
  "cells": [
    {
      "cell_type": "markdown",
      "metadata": {
        "id": "view-in-github",
        "colab_type": "text"
      },
      "source": [
        "<a href=\"https://colab.research.google.com/github/shakilsustswe/Python-Basic-Following-w3schools/blob/master/Python_Basic.ipynb\" target=\"_parent\"><img src=\"https://colab.research.google.com/assets/colab-badge.svg\" alt=\"Open In Colab\"/></a>"
      ]
    },
    {
      "cell_type": "code",
      "source": [
        " # display \" hello world, python \"\n",
        "\n",
        "print(\"hello world python\")\n",
        "print((3 * 5 * 9 / 3 / 3)) # (/)4*1*1*4>>><<<(*)16/16/16"
      ],
      "metadata": {
        "colab": {
          "base_uri": "https://localhost:8080/"
        },
        "id": "uFLPCpUUoi15",
        "outputId": "8fc63466-7a41-496c-9dc4-10c43e02a892"
      },
      "execution_count": null,
      "outputs": [
        {
          "output_type": "stream",
          "name": "stdout",
          "text": [
            "hello world python\n",
            "15.0\n"
          ]
        }
      ]
    },
    {
      "cell_type": "markdown",
      "source": [
        "# Common Properties"
      ],
      "metadata": {
        "id": "_A7BruyLGVi2"
      }
    },
    {
      "cell_type": "markdown",
      "source": [],
      "metadata": {
        "id": "JpPQYZ-Homsz"
      }
    },
    {
      "cell_type": "code",
      "source": [
        "#basic operation\n",
        "\n",
        "a=4\n",
        "b=5\n",
        "print(\"a+b : \",a+b)\n",
        "print(\"a-b : \",a-b)\n",
        "print(\"a*b : \",a*b)\n",
        "print(\"a/b : \",a/b)"
      ],
      "metadata": {
        "id": "W1NumnnG7SjU",
        "colab": {
          "base_uri": "https://localhost:8080/"
        },
        "outputId": "287cfe20-f39e-4010-b247-58c2db66d883"
      },
      "execution_count": null,
      "outputs": [
        {
          "output_type": "stream",
          "name": "stdout",
          "text": [
            "a+b :  9\n",
            "a-b :  -1\n",
            "a*b :  20\n",
            "a/b :  0.8\n"
          ]
        }
      ]
    },
    {
      "cell_type": "code",
      "source": [
        "#default input as a string\n",
        "print(\"Enter a value \")\n",
        "n=input()\n",
        "m=input()\n",
        "print(\"n+m : \",n+m)"
      ],
      "metadata": {
        "id": "FNziAh668JLY",
        "colab": {
          "base_uri": "https://localhost:8080/"
        },
        "outputId": "70c82ef1-e21a-4aad-bcbd-6d04625384dd"
      },
      "execution_count": null,
      "outputs": [
        {
          "output_type": "stream",
          "name": "stdout",
          "text": [
            "Enter a value \n",
            "2\n",
            "3\n",
            "n+m :  23\n"
          ]
        }
      ]
    },
    {
      "cell_type": "code",
      "source": [
        "#type casting\n",
        "print(\"Enter n value : \")\n",
        "n=int(input())\n",
        "print(\"Enter m value : \")\n",
        "m=int(input())\n",
        "print(\"n+m : \",n+m)"
      ],
      "metadata": {
        "id": "3RVNU5C19LY1",
        "colab": {
          "base_uri": "https://localhost:8080/"
        },
        "outputId": "ae4ed674-4017-450d-e8f1-a946f5c83e9d"
      },
      "execution_count": null,
      "outputs": [
        {
          "output_type": "stream",
          "name": "stdout",
          "text": [
            "Enter n value : \n",
            "2\n",
            "Enter m value : \n",
            "3\n",
            "n+m :  5\n"
          ]
        }
      ]
    },
    {
      "cell_type": "code",
      "source": [
        "#Conditional\n",
        "print(\"Enter n : \")\n",
        "n=int(input())\n",
        "print(\"Enter m : \")\n",
        "m=int(input())\n",
        "if n>m or n>m:\n",
        " print(\"n greater than m\")\n",
        "elif n==m:\n",
        "  print(\"n equal to m\")\n",
        "else:\n",
        " print(\"n less than m\")\n",
        "\n",
        "a = 2\n",
        "b = 330\n",
        "print(\"A\") if a > b else print(\"B\")"
      ],
      "metadata": {
        "id": "LU5E-an68sv5",
        "colab": {
          "base_uri": "https://localhost:8080/"
        },
        "outputId": "f4c8eccc-1936-413b-dd62-687a50fc7ddd"
      },
      "execution_count": null,
      "outputs": [
        {
          "output_type": "stream",
          "name": "stdout",
          "text": [
            "Enter n : \n",
            "4\n",
            "Enter m : \n",
            "2\n",
            "n greater than m\n",
            "B\n"
          ]
        }
      ]
    },
    {
      "cell_type": "code",
      "source": [
        "#Basic loop\n",
        "i=0;\n",
        "\n",
        "for i in range (i,5):\n",
        "    print(i)\n",
        "\n",
        "\n",
        "while(i<6):\n",
        "    i+=1\n",
        "    print(i)\n",
        "#If the loop breaks, the else block is not executed.\n",
        "for x in range(6):\n",
        "  if x == 3: break\n",
        "  print(x)\n",
        "else:\n",
        "  print(\"Finally finished!\")\n",
        "\n",
        "#nested loop\n",
        "adj = [\"red\", \"big\", \"tasty\"]\n",
        "fruits = [\"apple\", \"banana\", \"cherry\"]\n",
        "\n",
        "for x in adj:\n",
        "  for y in fruits:\n",
        "    print(x, y)\n"
      ],
      "metadata": {
        "id": "J1eS3NEyAGPe",
        "colab": {
          "base_uri": "https://localhost:8080/"
        },
        "outputId": "e519ab30-ebd7-40a0-a4cd-f3c656e18511"
      },
      "execution_count": null,
      "outputs": [
        {
          "output_type": "stream",
          "name": "stdout",
          "text": [
            "0\n",
            "1\n",
            "2\n",
            "3\n",
            "4\n",
            "5\n",
            "6\n",
            "0\n",
            "1\n",
            "2\n",
            "red apple\n",
            "red banana\n",
            "red cherry\n",
            "big apple\n",
            "big banana\n",
            "big cherry\n",
            "tasty apple\n",
            "tasty banana\n",
            "tasty cherry\n"
          ]
        }
      ]
    },
    {
      "cell_type": "code",
      "source": [
        "#string\n",
        "shakil=\"ashiqul hasan\"\n",
        "print(\"initial string : \",shakil)\n",
        "#length\n",
        "print(len(shakil))\n",
        "#slicing\n",
        "print(shakil[8:13])\n",
        "#update\n",
        "shakil=\"ashiqul hasan shakil\"\n",
        "print(shakil)\n",
        "#deleting\n",
        "shakil=shakil[0:8]+shakil[8:13]\n",
        "print(shakil)\n",
        "\n"
      ],
      "metadata": {
        "id": "6pk8kH0hSdg3",
        "colab": {
          "base_uri": "https://localhost:8080/"
        },
        "outputId": "9db51cc6-a99c-44f3-ee26-562ea1f88f70"
      },
      "execution_count": null,
      "outputs": [
        {
          "output_type": "stream",
          "name": "stdout",
          "text": [
            "initial string :  ashiqul hasan\n",
            "13\n",
            "hasan\n",
            "ashiqul hasan shakil\n",
            "ashiqul hasan\n"
          ]
        }
      ]
    },
    {
      "cell_type": "code",
      "source": [
        "#Functions\n",
        "def fun(name,email):\n",
        "  print(name+\" \"+email)\n",
        "\n",
        "fun(\"shakil\",\"ashakil.swe@gmail.com\")\n",
        "\n",
        "#passing addresses\n",
        "print(\"passing by reference : \")\n",
        "def add_fun(*info):\n",
        "  print(info[1])\n",
        "\n",
        "add_fun(\"Shakil\",\"Salman\",\"Raju\",\"Nahid\")\n",
        "\n",
        "#we can pass key=value\n",
        "print(\"key value pair :\")\n",
        "def key_value_fun(name,email,phone):\n",
        "  print(name)\n",
        "\n",
        "key_value_fun(name=\"shakil\",email=\"shakil@gmail.com\",phone=\"+880-----\")\n",
        "\n",
        "#If the number of keyword arguments is unknown, add a double ** before the parameter name:\n",
        "print(\"** : \")\n",
        "\n",
        "def my_function(**kid):\n",
        "  print(\"His last name is \" + kid[\"lname\"])\n",
        "\n",
        "my_function(fname = \"Tobias\", lname = \"Refsnes\")\n",
        "\n",
        "print(\"default parameter : \")\n",
        "#default parameter\n",
        "def default_par(name=\"shakil\"):\n",
        " print(name)\n",
        "default_par()\n",
        "\n",
        "#passing list\n",
        "print(\"passing list: \")\n",
        "def passing_list(name):\n",
        "  for x in name:\n",
        "    print(x)\n",
        "name=[\"shakil\",\"raju\"]\n",
        "passing_list(name)\n"
      ],
      "metadata": {
        "colab": {
          "base_uri": "https://localhost:8080/"
        },
        "id": "1gfUKzoEPyvw",
        "outputId": "008d7a1e-4aa9-4c6a-bc0d-f89839d7e5de"
      },
      "execution_count": null,
      "outputs": [
        {
          "output_type": "stream",
          "name": "stdout",
          "text": [
            "shakil ashakil.swe@gmail.com\n",
            "passing by reference : \n",
            "Salman\n",
            "key value pair :\n",
            "shakil\n",
            "** : \n",
            "His last name is Refsnes\n",
            "default parameter : \n",
            "shakil\n",
            "passing list: \n",
            "shakil\n",
            "raju\n"
          ]
        }
      ]
    },
    {
      "cell_type": "code",
      "source": [
        "#recursion\n",
        "result ;\n",
        "def tri_recursion(k):\n",
        "  global result\n",
        "  if(k > 0):\n",
        "    print(\"Before : \" + str(k))\n",
        "    result = k + tri_recursion(k - 1)\n",
        "    print(\"After : \" + str(k) + \" \" + str(result))\n",
        "    #print(result)\n",
        "  else:\n",
        "    result = 0\n",
        "  return result\n",
        "\n",
        "print(\"\\n\\nRecursion Example Results\")\n",
        "tri_recursion(6)"
      ],
      "metadata": {
        "colab": {
          "base_uri": "https://localhost:8080/"
        },
        "id": "BAMlSnvVXZ7c",
        "outputId": "31b2c900-2e7b-4b62-a971-6d38bd3d7d87"
      },
      "execution_count": null,
      "outputs": [
        {
          "output_type": "stream",
          "name": "stdout",
          "text": [
            "\n",
            "\n",
            "Recursion Example Results\n",
            "Before : 6\n",
            "Before : 5\n",
            "Before : 4\n",
            "Before : 3\n",
            "Before : 2\n",
            "Before : 1\n",
            "After : 1 1\n",
            "After : 2 3\n",
            "After : 3 6\n",
            "After : 4 10\n",
            "After : 5 15\n",
            "After : 6 21\n"
          ]
        },
        {
          "output_type": "execute_result",
          "data": {
            "text/plain": [
              "21"
            ]
          },
          "metadata": {},
          "execution_count": 36
        }
      ]
    },
    {
      "cell_type": "markdown",
      "source": [
        "#Python Collection"
      ],
      "metadata": {
        "id": "qymAr3iVFw5b"
      }
    },
    {
      "cell_type": "markdown",
      "source": [
        "Python Collections (Arrays)\n",
        "There are four collection data types in the Python programming language:\n",
        "\n",
        "List is a collection which is ordered and changeable. Allows duplicate members.\n",
        "Tuple is a collection which is ordered and unchangeable. Allows duplicate members.\n",
        "Set is a collection which is unordered, unchangeable*, and unindexed. No duplicate members.\n",
        "Dictionary is a collection which is ordered** and changeable. No duplicate members."
      ],
      "metadata": {
        "id": "3owaMzvVKqoG"
      }
    },
    {
      "cell_type": "code",
      "source": [
        "#list with python\n",
        "shakil=[\"s\",\"h\",\"a\",\"k\",\"i\",\"l\"]\n",
        "print(\"Initial List : \")\n",
        "print(shakil)\n",
        "#append\n",
        "shakil.append(\" ahamed\")\n",
        "print(\"after append : \")\n",
        "print(shakil)\n",
        "#using index\n",
        "print(\"shakil[2] : \",shakil[2])\n",
        "#duplicate data\n",
        "shakil.append(\"age : \")\n",
        "shakil.append(22)\n",
        "print(shakil)\n",
        "#length\n",
        "print(len(shakil))\n",
        "#insert\n",
        "shakil.insert(10 ,\"student\")\n",
        "print(shakil)\n",
        "#remove\n",
        "shakil.remove(\"student\")\n",
        "print(shakil)\n",
        "shakil.clear()\n",
        "print(shakil)"
      ],
      "metadata": {
        "id": "WiTQylVRMahZ",
        "colab": {
          "base_uri": "https://localhost:8080/"
        },
        "outputId": "a10fe639-225a-4a47-826c-7c4012119750"
      },
      "execution_count": null,
      "outputs": [
        {
          "output_type": "stream",
          "name": "stdout",
          "text": [
            "Initial List : \n",
            "['s', 'h', 'a', 'k', 'i', 'l']\n",
            "after append : \n",
            "['s', 'h', 'a', 'k', 'i', 'l', ' ahamed']\n",
            "shakil[2] :  a\n",
            "['s', 'h', 'a', 'k', 'i', 'l', ' ahamed', 'age : ', 22]\n",
            "9\n",
            "['s', 'h', 'a', 'k', 'i', 'l', ' ahamed', 'age : ', 22, 'student']\n",
            "['s', 'h', 'a', 'k', 'i', 'l', ' ahamed', 'age : ', 22]\n",
            "[]\n"
          ]
        }
      ]
    },
    {
      "cell_type": "code",
      "source": [
        "#Tuple with python\n",
        "shakil=(\"s\",\"h\",\"a\",\"k\",\"i\",\"l\")\n",
        "print(\"Initial Tuple : \")\n",
        "print(shakil)\n",
        "#access using index\n",
        "print(\"shakil[2] : \",shakil[2])\n",
        "#length\n",
        "print(len(shakil))\n",
        "print(shakil)\n",
        "#delete\n",
        "del shakil\n"
      ],
      "metadata": {
        "id": "YsR-wMT_WpDh",
        "colab": {
          "base_uri": "https://localhost:8080/"
        },
        "outputId": "1b9ad0f3-edc4-4668-e0f4-ce317a471087"
      },
      "execution_count": null,
      "outputs": [
        {
          "output_type": "stream",
          "name": "stdout",
          "text": [
            "Initial Tuple : \n",
            "('s', 'h', 'a', 'k', 'i', 'l')\n",
            "shakil[2] :  a\n",
            "6\n",
            "('s', 'h', 'a', 'k', 'i', 'l')\n"
          ]
        }
      ]
    },
    {
      "cell_type": "code",
      "source": [
        "#set python\n",
        "shakil={\"s\",\"h\",\"a\",\"k\",\"i\",\"l\"}\n",
        "print(\"Initial Set : \")\n",
        "print(shakil)\n",
        "\n",
        "#add\n",
        "shakil.add(\" hasan\")\n",
        "print(shakil)\n",
        "\n",
        "#length\n",
        "print(len(shakil))\n",
        "\n",
        "#update\n",
        "shakil=set([\"shakil\",\"ahamed\"])\n",
        "print(shakil)\n",
        "\n",
        "#access\n",
        "for i in shakil:\n",
        "  print(i)\n",
        "\n",
        "#remove\n",
        "shakil.remove(\"ahamed\")\n",
        "print(shakil)\n",
        "\n",
        "#pop\n",
        "shakil=set([\"shakil\",\"ahamed\"])\n",
        "shakil.pop()\n",
        "print(shakil)\n",
        "\n",
        "#clear\n",
        "shakil.clear()\n",
        "print(shakil)\n"
      ],
      "metadata": {
        "id": "CW5hYheEYBiP",
        "colab": {
          "base_uri": "https://localhost:8080/"
        },
        "outputId": "7f04f9e1-3163-45c0-ff13-11af84181d25"
      },
      "execution_count": null,
      "outputs": [
        {
          "output_type": "stream",
          "name": "stdout",
          "text": [
            "Initial Set : \n",
            "{'k', 'a', 's', 'h', 'i', 'l'}\n",
            "{'k', 'a', 's', 'h', 'i', ' hasan', 'l'}\n",
            "7\n",
            "{'shakil', 'ahamed'}\n",
            "shakil\n",
            "ahamed\n",
            "{'shakil'}\n",
            "{'ahamed'}\n",
            "set()\n"
          ]
        }
      ]
    },
    {
      "cell_type": "code",
      "source": [
        "# Dictionary\n",
        "\n",
        "currency = {\n",
        "  \"Bangladesh\": \"Taka\",\n",
        "  \"India\": \"Ruppe\",\n",
        "  \"Pakistan\": \"Ruppe\"\n",
        "}\n",
        "\n",
        "print(currency)\n",
        "\n",
        "print(currency[\"India\"])\n",
        "\n",
        "#overwrite Duplicate values :\n",
        "currency = {\n",
        "  \"Bangladesh\": \"taka\",\n",
        "  \"India\": \"ruppe\",\n",
        "  \"Pakistan\": \"dilham\",\n",
        "  \"Pakistan\": \"ruppe\"\n",
        "}\n",
        "\n",
        "print(currency)\n",
        "\n",
        "currency.update({\"Bhutan\": \"ngultrum\"})\n",
        "currency.update({\"Nepal\" : \"rupee\"})\n",
        "currency.pop(\"Pakistan\")\n",
        "print(currency)"
      ],
      "metadata": {
        "id": "htN5qeureDym",
        "colab": {
          "base_uri": "https://localhost:8080/"
        },
        "outputId": "174b40ba-9803-46ef-9f9d-724e82d6d1e0"
      },
      "execution_count": null,
      "outputs": [
        {
          "output_type": "stream",
          "name": "stdout",
          "text": [
            "{'Bangladesh': 'Taka', 'India': 'Ruppe', 'Pakistan': 'Ruppe'}\n",
            "Ruppe\n",
            "{'Bangladesh': 'taka', 'India': 'ruppe', 'Pakistan': 'ruppe'}\n",
            "{'Bangladesh': 'taka', 'India': 'ruppe', 'Bhutan': 'ngultrum', 'Nepal': 'rupee'}\n"
          ]
        }
      ]
    },
    {
      "cell_type": "markdown",
      "source": [
        "# Python List\n"
      ],
      "metadata": {
        "id": "kXAm-5xcLVxD"
      }
    },
    {
      "cell_type": "markdown",
      "source": [
        "List items are ordered, changeable, and allow duplicate values.\n",
        "\n",
        "List items are indexed, the first item has index [0], the second item has index [1] etc."
      ],
      "metadata": {
        "id": "ncZ296bCBCAI"
      }
    },
    {
      "cell_type": "code",
      "source": [
        "fruits = [\"apple\", \"banana\", \"cherry\", \"kiwi\", \"mango\"]\n",
        "newlist = []\n",
        "\n",
        "for x in fruits:\n",
        "  if \"a\" in x:\n",
        "    newlist.append(x)\n",
        "\n",
        "print(newlist)"
      ],
      "metadata": {
        "colab": {
          "base_uri": "https://localhost:8080/"
        },
        "id": "zi9b-l9ZHb7E",
        "outputId": "f48fe1e5-dfba-4043-fb6d-5101302fa987"
      },
      "execution_count": null,
      "outputs": [
        {
          "output_type": "stream",
          "name": "stdout",
          "text": [
            "['apple', 'banana', 'mango']\n"
          ]
        }
      ]
    },
    {
      "cell_type": "code",
      "source": [
        "fruits = [\"apple\", \"banana\", \"cherry\", \"kiwi\", \"mango\"]\n",
        "\n",
        "newlist = ['hello' for x in fruits]\n",
        "list1 = [x.upper() for x in fruits]\n",
        "\n",
        "\n",
        "print(newlist)\n",
        "print(list1)"
      ],
      "metadata": {
        "colab": {
          "base_uri": "https://localhost:8080/"
        },
        "id": "Mv-ItLJjIT-m",
        "outputId": "3a596ca3-65eb-494a-e9a9-363e807c48ec"
      },
      "execution_count": null,
      "outputs": [
        {
          "output_type": "stream",
          "name": "stdout",
          "text": [
            "['hello', 'hello', 'hello', 'hello', 'hello']\n",
            "['APPLE', 'BANANA', 'CHERRY', 'KIWI', 'MANGO']\n"
          ]
        }
      ]
    },
    {
      "cell_type": "markdown",
      "source": [
        "Sort the list descending:\n",
        "\n"
      ],
      "metadata": {
        "id": "VW5K4e-hKf61"
      }
    },
    {
      "cell_type": "code",
      "source": [
        "thislist = [100, 50, 65, 82, 23]\n",
        "thislist.sort(reverse = True)\n",
        "print(thislist)\n",
        "print(thislist.index(50))"
      ],
      "metadata": {
        "colab": {
          "base_uri": "https://localhost:8080/"
        },
        "id": "nNSDxouWKhtH",
        "outputId": "d84a560f-397a-4ac3-c73e-c42eba29bb54"
      },
      "execution_count": null,
      "outputs": [
        {
          "output_type": "stream",
          "name": "stdout",
          "text": [
            "[100, 82, 65, 50, 23]\n",
            "3\n"
          ]
        }
      ]
    },
    {
      "cell_type": "code",
      "source": [
        "#Customize sort\n",
        "def myfunc(n):\n",
        "  return abs(n - 50)\n",
        "\n",
        "thislist = [100, 50, 65, 82, 23]\n",
        "thislist.sort(key = myfunc)\n",
        "print(thislist)"
      ],
      "metadata": {
        "colab": {
          "base_uri": "https://localhost:8080/"
        },
        "id": "O-8DWgOWKh3y",
        "outputId": "e9971f0c-e25a-4262-9984-fca55d186780"
      },
      "execution_count": null,
      "outputs": [
        {
          "output_type": "stream",
          "name": "stdout",
          "text": [
            "[50, 65, 23, 82, 100]\n"
          ]
        }
      ]
    },
    {
      "cell_type": "code",
      "source": [
        "#Case ways\n",
        "thislist = [\"banana\", \"Orange\", \"Kiwi\", \"cherry\"]\n",
        "thislist.sort(key = str.lower)\n",
        "print(thislist)"
      ],
      "metadata": {
        "id": "gT3Vz5MXLF9p"
      },
      "execution_count": null,
      "outputs": []
    },
    {
      "cell_type": "code",
      "source": [
        "#reverse\n",
        "thislist = [\"banana\", \"Orange\", \"Kiwi\", \"cherry\"]\n",
        "thislist.reverse()\n",
        "print(thislist)"
      ],
      "metadata": {
        "id": "7rE4csF4LQoX"
      },
      "execution_count": null,
      "outputs": []
    },
    {
      "cell_type": "code",
      "source": [
        "#copy vs list1=list2\n",
        "thislist = [\"apple\", \"banana\", \"cherry\"]\n",
        "mylist = thislist.copy()\n",
        "thislist.append(\"shakil\")\n",
        "print(mylist)\n"
      ],
      "metadata": {
        "id": "Vh-rfYA6MMqF"
      },
      "execution_count": null,
      "outputs": []
    },
    {
      "cell_type": "code",
      "source": [
        "#extend list\n",
        "list1 = [\"a\", \"b\" , \"c\"]\n",
        "list2 = [1, 2, 3]\n",
        "\n",
        "list1.extend(list2)\n",
        "print(list1)"
      ],
      "metadata": {
        "id": "gJI1W8FEMfAF"
      },
      "execution_count": null,
      "outputs": []
    },
    {
      "cell_type": "markdown",
      "source": [],
      "metadata": {
        "id": "nW_2zYb1BxSC"
      }
    },
    {
      "cell_type": "markdown",
      "source": [
        "# Python Tuples"
      ],
      "metadata": {
        "id": "KP_FLJEfAbqX"
      }
    },
    {
      "cell_type": "markdown",
      "source": [
        "Tuple items are ordered, unchangeable, and allow duplicate values.\n",
        "\n",
        "Tuple items are indexed, the first item has index [0], the second item has index [1] etc."
      ],
      "metadata": {
        "id": "EdYkkjiFBDs3"
      }
    },
    {
      "cell_type": "code",
      "source": [
        "thistuple = (\"apple\", \"banana\", \"cherry\",\"cherry\")\n",
        "\n",
        "print(thistuple)"
      ],
      "metadata": {
        "colab": {
          "base_uri": "https://localhost:8080/"
        },
        "id": "Krq4QZo-Ak-8",
        "outputId": "09206c5a-860d-471a-86e7-c9ea32e97525"
      },
      "execution_count": null,
      "outputs": [
        {
          "output_type": "stream",
          "name": "stdout",
          "text": [
            "('apple', 'banana', 'cherry', 'cherry')\n"
          ]
        }
      ]
    },
    {
      "cell_type": "code",
      "source": [
        "#Range in Tuple\n",
        "thistuple = (\"apple\", \"banana\", \"cherry\", \"orange\", \"kiwi\", \"melon\", \"mango\")\n",
        "print(thistuple[2:5])"
      ],
      "metadata": {
        "colab": {
          "base_uri": "https://localhost:8080/"
        },
        "id": "jjWINIeZCgZR",
        "outputId": "08a89c2c-4174-4270-d1ab-8ef6982708e9"
      },
      "execution_count": null,
      "outputs": [
        {
          "output_type": "stream",
          "name": "stdout",
          "text": [
            "('cherry', 'orange', 'kiwi')\n"
          ]
        }
      ]
    },
    {
      "cell_type": "code",
      "source": [
        "#Update Tuple\n",
        "x = (\"apple\", \"banana\", \"cherry\")\n",
        "y = list(x)\n",
        "y[1] = \"kiwi\"\n",
        "x = tuple(y)\n",
        "\n",
        "print(x)"
      ],
      "metadata": {
        "colab": {
          "base_uri": "https://localhost:8080/"
        },
        "id": "w12zrgbdCoUl",
        "outputId": "94c96303-c815-438d-db9d-e50b2d7fe29e"
      },
      "execution_count": null,
      "outputs": [
        {
          "output_type": "stream",
          "name": "stdout",
          "text": [
            "('apple', 'kiwi', 'cherry')\n"
          ]
        }
      ]
    },
    {
      "cell_type": "code",
      "source": [
        "#Unpacking a Tuple\n",
        "fruits = (\"apple\", \"mango\", \"papaya\", \"pineapple\", \"cherry\")\n",
        "\n",
        "(green, *tropic, red) = fruits\n",
        "\n",
        "print(green)\n",
        "print(tropic)\n",
        "print(red)"
      ],
      "metadata": {
        "colab": {
          "base_uri": "https://localhost:8080/"
        },
        "id": "axbNTE_5Fs13",
        "outputId": "736c0f50-0543-48bf-b0c1-fa64fe8f0169"
      },
      "execution_count": null,
      "outputs": [
        {
          "output_type": "stream",
          "name": "stdout",
          "text": [
            "apple\n",
            "['mango', 'papaya', 'pineapple']\n",
            "cherry\n"
          ]
        }
      ]
    },
    {
      "cell_type": "code",
      "source": [
        "#Loop\n",
        "thistuple = (\"apple\", \"banana\", \"cherry\")\n",
        "for x in thistuple:\n",
        "  print(x)"
      ],
      "metadata": {
        "id": "cfZtVf94HOub"
      },
      "execution_count": null,
      "outputs": []
    },
    {
      "cell_type": "code",
      "source": [
        "#Join two tuples:\n",
        "tuple1 = (\"a\", \"b\" , \"c\")\n",
        "tuple2 = (1, 2, 3)\n",
        "\n",
        "tuple3 = tuple1 + tuple2\n",
        "print(tuple3)"
      ],
      "metadata": {
        "id": "2QJg5665JEi4"
      },
      "execution_count": null,
      "outputs": []
    },
    {
      "cell_type": "markdown",
      "source": [
        "# Python Sets"
      ],
      "metadata": {
        "id": "u-3GPEKNJ3wu"
      }
    },
    {
      "cell_type": "markdown",
      "source": [
        "Set items are unordered, unchangeable, and do not allow duplicate values."
      ],
      "metadata": {
        "id": "jTWil2Q4J5l2"
      }
    },
    {
      "cell_type": "code",
      "source": [
        "#Remove duplicate entry\n",
        "thisset = {\"apple\", \"banana\", \"cherry\", \"apple\"}\n",
        "\n",
        "print(thisset)"
      ],
      "metadata": {
        "colab": {
          "base_uri": "https://localhost:8080/"
        },
        "id": "4kh8mripKBzv",
        "outputId": "d56ab34e-b74e-4287-dd6a-e0d2d8493287"
      },
      "execution_count": null,
      "outputs": [
        {
          "output_type": "stream",
          "name": "stdout",
          "text": [
            "{'banana', 'cherry', 'apple'}\n"
          ]
        }
      ]
    },
    {
      "cell_type": "code",
      "source": [
        "#True==1\n",
        "thisset = {\"apple\", \"banana\", \"cherry\", True, 1, 2}\n",
        "\n",
        "print(thisset)"
      ],
      "metadata": {
        "colab": {
          "base_uri": "https://localhost:8080/"
        },
        "id": "ZYGfU1J-KOyY",
        "outputId": "18f7bb10-f2ea-45d6-9624-4b792b73155b"
      },
      "execution_count": null,
      "outputs": [
        {
          "output_type": "stream",
          "name": "stdout",
          "text": [
            "{True, 2, 'cherry', 'apple', 'banana'}\n"
          ]
        }
      ]
    },
    {
      "cell_type": "code",
      "source": [
        "#Check banana in thisset\n",
        "thisset = {\"apple\", \"banana\", \"cherry\"}\n",
        "\n",
        "print(\"banana\" in thisset)"
      ],
      "metadata": {
        "id": "BLYByhD6K5FF"
      },
      "execution_count": null,
      "outputs": []
    },
    {
      "cell_type": "code",
      "source": [
        "#Remove a random item by using the pop() method:\n",
        "\n",
        "thisset = {\"apple\",  \"cherry\",\"banana\"}\n",
        "\n",
        "x = thisset.pop()\n",
        "\n",
        "print(x)\n",
        "\n",
        "print(thisset)\n",
        "#Note: Sets are unordered, so when using the pop() method, you do not know which item that gets removed."
      ],
      "metadata": {
        "colab": {
          "base_uri": "https://localhost:8080/"
        },
        "id": "38PVeQJPLG23",
        "outputId": "c5a65c23-84d7-40e8-f59a-0230f5346992"
      },
      "execution_count": null,
      "outputs": [
        {
          "output_type": "stream",
          "name": "stdout",
          "text": [
            "banana\n",
            "{'cherry', 'apple'}\n"
          ]
        }
      ]
    },
    {
      "cell_type": "code",
      "source": [
        "#Loop\n",
        "thisset = {\"apple\", \"banana\", \"cherry\"}\n",
        "\n",
        "for x in thisset:\n",
        "  print(x)"
      ],
      "metadata": {
        "colab": {
          "base_uri": "https://localhost:8080/"
        },
        "id": "yGrIygIHMTv1",
        "outputId": "a8dced88-4178-4ecd-fe73-4fdb6fa04ebf"
      },
      "execution_count": null,
      "outputs": [
        {
          "output_type": "stream",
          "name": "stdout",
          "text": [
            "banana\n",
            "cherry\n",
            "apple\n"
          ]
        }
      ]
    },
    {
      "cell_type": "code",
      "source": [
        "#The union() method returns a new set with all items from both sets:\n",
        "\n",
        "set1 = {\"a\", \"b\" , \"c\"}\n",
        "set2 = {1, 2, 3}\n",
        "\n",
        "set3 = set1.union(set2)\n",
        "print(set3)\n",
        "\n",
        "\n",
        "set1.update(set2)\n",
        "print(set1)"
      ],
      "metadata": {
        "colab": {
          "base_uri": "https://localhost:8080/"
        },
        "id": "x-XDzTZWMrVE",
        "outputId": "0e467dd8-1074-498c-f22c-00d2c4ca7638"
      },
      "execution_count": null,
      "outputs": [
        {
          "output_type": "stream",
          "name": "stdout",
          "text": [
            "{'b', 'c', 1, 2, 3, 'a'}\n",
            "{'b', 'c', 1, 2, 3, 'a'}\n"
          ]
        }
      ]
    },
    {
      "cell_type": "code",
      "source": [
        "#intersection\n",
        "x = {\"apple\", \"banana\", \"cherry\"}\n",
        "y = {\"google\", \"microsoft\", \"apple\"}\n",
        "\n",
        "x.intersection_update(y)\n",
        "\n",
        "print(x)\n"
      ],
      "metadata": {
        "colab": {
          "base_uri": "https://localhost:8080/"
        },
        "id": "sKUyfQd8PvsN",
        "outputId": "67d660f7-fd3a-40ad-9d9b-5b6c28057aa9"
      },
      "execution_count": null,
      "outputs": [
        {
          "output_type": "stream",
          "name": "stdout",
          "text": [
            "{'apple'}\n"
          ]
        }
      ]
    },
    {
      "cell_type": "markdown",
      "source": [
        "# Python Dictionaries"
      ],
      "metadata": {
        "id": "MyRZBSC9U-ON"
      }
    },
    {
      "cell_type": "markdown",
      "source": [
        "Dictionary items are ordered, changeable, and does not allow duplicates.\n",
        "\n",
        "Dictionary items are presented in key:value pairs, and can be referred to by using the key name."
      ],
      "metadata": {
        "id": "0U9qUju2VQWV"
      }
    },
    {
      "cell_type": "code",
      "source": [
        "thisdict = {\n",
        "  \"brand\": \"Ford\",\n",
        "  \"electric\": False,\n",
        "  \"year\": 1964,\n",
        "  \"colors\": [\"red\", \"white\", \"blue\"]\n",
        "}\n",
        "print(thisdict)\n",
        "print(len(thisdict))\n",
        "print(type(thisdict))"
      ],
      "metadata": {
        "colab": {
          "base_uri": "https://localhost:8080/"
        },
        "id": "xnoXoj02VEbO",
        "outputId": "90fdac9b-c77d-4f18-ff9e-f0adb3209a2c"
      },
      "execution_count": null,
      "outputs": [
        {
          "output_type": "stream",
          "name": "stdout",
          "text": [
            "{'brand': 'Ford', 'electric': False, 'year': 1964, 'colors': ['red', 'white', 'blue']}\n",
            "4\n",
            "<class 'dict'>\n"
          ]
        }
      ]
    },
    {
      "cell_type": "code",
      "source": [
        "thisdict =\t{\n",
        "  \"brand\": \"Ford\",\n",
        "  \"model\": \"Mustang\",\n",
        "  \"year\": 1964\n",
        "}\n",
        "x = thisdict[\"model\"]\n",
        "y = thisdict.get(\"model\")\n",
        "print(x)\n",
        "print(y)\n",
        "print(thisdict.keys()\n",
        ")\n"
      ],
      "metadata": {
        "colab": {
          "base_uri": "https://localhost:8080/"
        },
        "id": "YpHqo6SCX7PJ",
        "outputId": "bd4d5ec8-293b-439a-98c1-d89391ced66c"
      },
      "execution_count": null,
      "outputs": [
        {
          "output_type": "stream",
          "name": "stdout",
          "text": [
            "Mustang\n",
            "Mustang\n",
            "dict_keys(['brand', 'model', 'year'])\n"
          ]
        }
      ]
    },
    {
      "cell_type": "code",
      "source": [
        "#Change item\n",
        "thisdict = {\n",
        "  \"brand\": \"Ford\",\n",
        "  \"model\": \"Mustang\",\n",
        "  \"year\": 1964\n",
        "}\n",
        "thisdict[\"year\"] = 2018"
      ],
      "metadata": {
        "id": "dXgrnlVYbHH9"
      },
      "execution_count": null,
      "outputs": []
    },
    {
      "cell_type": "code",
      "source": [
        "#Add new item\n",
        "thisdict = {\n",
        "  \"brand\": \"Ford\",\n",
        "  \"model\": \"Mustang\",\n",
        "  \"year\": 1964\n",
        "}\n",
        "thisdict.update({\"color\": \"red\"})\n",
        "print(thisdict)"
      ],
      "metadata": {
        "colab": {
          "base_uri": "https://localhost:8080/"
        },
        "id": "c1nvmoKJbTir",
        "outputId": "6756d139-e89a-4bc8-e113-6052f39a0724"
      },
      "execution_count": null,
      "outputs": [
        {
          "output_type": "stream",
          "name": "stdout",
          "text": [
            "{'brand': 'Ford', 'model': 'Mustang', 'year': 1964, 'color': 'red'}\n"
          ]
        }
      ]
    },
    {
      "cell_type": "code",
      "source": [
        "#pop item\n",
        "thisdict.pop(\"model\")\n",
        "print(thisdict)"
      ],
      "metadata": {
        "colab": {
          "base_uri": "https://localhost:8080/"
        },
        "id": "P5AmO7uNct_C",
        "outputId": "30dc13dc-64f0-4373-9647-04b59f09755a"
      },
      "execution_count": null,
      "outputs": [
        {
          "output_type": "stream",
          "name": "stdout",
          "text": [
            "{'brand': 'Ford', 'year': 1964, 'color': 'red'}\n"
          ]
        }
      ]
    },
    {
      "cell_type": "code",
      "source": [
        "#clear\n",
        "thisdict.clear()\n",
        "print(thisdict)"
      ],
      "metadata": {
        "colab": {
          "base_uri": "https://localhost:8080/"
        },
        "id": "k26QLKV7dMdd",
        "outputId": "2153c77a-eef1-4d27-aa7d-d211079b692a"
      },
      "execution_count": null,
      "outputs": [
        {
          "output_type": "stream",
          "name": "stdout",
          "text": [
            "{}\n"
          ]
        }
      ]
    },
    {
      "cell_type": "code",
      "source": [
        "#loop && formate\n",
        "thisdict = {\n",
        "  \"brand\": \"Ford\",\n",
        "  \"model\": \"Mustang\",\n",
        "  \"year\": 1964\n",
        "}\n",
        "thisdict.update({\"color\": \"red\"})\n",
        "\n",
        "for indx in thisdict:\n",
        "  get_thisdict=\"{} is {}\"\n",
        "  print(get_thisdict.format(indx,thisdict[indx]))\n",
        "print(len(thisdict))\n",
        "\n",
        "for x, y in thisdict.items():\n",
        "  print(x, y)"
      ],
      "metadata": {
        "colab": {
          "base_uri": "https://localhost:8080/"
        },
        "id": "BSYkBcqddWHq",
        "outputId": "ef4fb7a8-914a-4473-f7a4-f2ff7f3d07ae"
      },
      "execution_count": null,
      "outputs": [
        {
          "output_type": "stream",
          "name": "stdout",
          "text": [
            "brand is Ford\n",
            "model is Mustang\n",
            "year is 1964\n",
            "color is red\n",
            "4\n",
            "brand Ford\n",
            "model Mustang\n",
            "year 1964\n",
            "color red\n"
          ]
        }
      ]
    },
    {
      "cell_type": "code",
      "source": [
        "#dict constructor\n",
        "thisdict = dict(name = \"John\", age = 36, country = \"Norway\")\n",
        "print(thisdict)"
      ],
      "metadata": {
        "colab": {
          "base_uri": "https://localhost:8080/"
        },
        "id": "0X9yN4wpfXdv",
        "outputId": "d58f0371-aac1-4616-aad6-5e73d3d1ed28"
      },
      "execution_count": null,
      "outputs": [
        {
          "output_type": "stream",
          "name": "stdout",
          "text": [
            "{'name': 'John', 'age': 36, 'country': 'Norway'}\n"
          ]
        }
      ]
    },
    {
      "cell_type": "code",
      "source": [
        "#Copy\n",
        "mydict = thisdict.copy()\n",
        "print(mydict)"
      ],
      "metadata": {
        "colab": {
          "base_uri": "https://localhost:8080/"
        },
        "id": "Do_6Jp7ufqRq",
        "outputId": "008b8aeb-f53b-4a95-e8f2-5d8aee402c07"
      },
      "execution_count": null,
      "outputs": [
        {
          "output_type": "stream",
          "name": "stdout",
          "text": [
            "{'brand': 'Ford', 'model': 'Mustang', 'year': 1964, 'color': 'red'}\n"
          ]
        }
      ]
    },
    {
      "cell_type": "code",
      "source": [
        "#Nested Dictionaries\n",
        "myfamily = {\n",
        "  \"child1\" : {\n",
        "    \"name\" : \"Emil\",\n",
        "    \"year\" : 2004\n",
        "  },\n",
        "  \"child2\" : {\n",
        "    \"name\" : \"Tobias\",\n",
        "    \"year\" : 2007\n",
        "  },\n",
        "  \"child3\" : {\n",
        "    \"name\" : \"Linus\",\n",
        "    \"year\" : 2011\n",
        "  }\n",
        "}\n",
        "\n",
        "child1 = {\n",
        "  \"name\" : \"Emil\",\n",
        "  \"year\" : 2004\n",
        "}\n",
        "child2 = {\n",
        "  \"name\" : \"Tobias\",\n",
        "  \"year\" : 2007\n",
        "}\n",
        "child3 = {\n",
        "  \"name\" : \"Linus\",\n",
        "  \"year\" : 2011\n",
        "}\n",
        "\n",
        "myfamily = {\n",
        "  \"child1\" : child1,\n",
        "  \"child2\" : child2,\n",
        "  \"child3\" : child3\n",
        "}\n",
        "print(myfamily)"
      ],
      "metadata": {
        "colab": {
          "base_uri": "https://localhost:8080/"
        },
        "id": "oav6Qzirf-LV",
        "outputId": "ff4e4a4e-6699-41f2-ede5-4f58f6b8f8a4"
      },
      "execution_count": null,
      "outputs": [
        {
          "output_type": "stream",
          "name": "stdout",
          "text": [
            "{'child1': {'name': 'Emil', 'year': 2004}, 'child2': {'name': 'Tobias', 'year': 2007}, 'child3': {'name': 'Linus', 'year': 2011}}\n"
          ]
        }
      ]
    },
    {
      "cell_type": "code",
      "source": [
        "#Access\n",
        "print(myfamily[\"child2\"][\"name\"])"
      ],
      "metadata": {
        "colab": {
          "base_uri": "https://localhost:8080/"
        },
        "id": "hNDbf90DgNYx",
        "outputId": "4a01b2f7-654a-4b10-8c70-b86b9edbb278"
      },
      "execution_count": null,
      "outputs": [
        {
          "output_type": "stream",
          "name": "stdout",
          "text": [
            "Tobias\n"
          ]
        }
      ]
    },
    {
      "cell_type": "markdown",
      "source": [
        "# Basic Practices"
      ],
      "metadata": {
        "id": "EFJurx9nGFOZ"
      }
    },
    {
      "cell_type": "code",
      "source": [
        "def main():\n",
        "    str_input = input().strip()\n",
        "\n",
        "    count1 = count2 = 0\n",
        "\n",
        "    for i in range(1, len(str_input)):\n",
        "        if str_input[0] >= 'a':\n",
        "            if str_input[i] <= 'Z':\n",
        "                count1 += 1\n",
        "        else:\n",
        "            if str_input[i] <= 'Z':\n",
        "                count2 += 1\n",
        "\n",
        "    if len(str_input) == 1:\n",
        "        str_input = str_input.lower() if str_input[0] <= 'Z' else str_input.upper()\n",
        "        print(str_input)\n",
        "        return\n",
        "\n",
        "    if count1 == (len(str_input) - 1):\n",
        "        str_input = str_input[0].upper() + str_input[1:].lower()\n",
        "    elif count2 + 1 == len(str_input):\n",
        "        str_input = str_input.lower()\n",
        "\n",
        "    print(str_input)\n",
        "\n",
        "if __name__ == \"__main__\":\n",
        "    main()\n"
      ],
      "metadata": {
        "colab": {
          "base_uri": "https://localhost:8080/"
        },
        "id": "xyNgj3YswMeS",
        "outputId": "102799c2-bed5-48e0-861e-3c22a8150ea1"
      },
      "execution_count": null,
      "outputs": [
        {
          "output_type": "stream",
          "name": "stdout",
          "text": [
            "nhjh\n",
            "nhjh\n"
          ]
        }
      ]
    },
    {
      "cell_type": "code",
      "source": [
        "#noraml function\n",
        "\n",
        "def myFun():\n",
        "      return 'shakil'\n",
        "if myFun():\n",
        "  print(\"True value\")\n",
        "else :\n",
        "  print(\"False value\")\n",
        "\n",
        "\n",
        "x = 200;\n",
        "print(isinstance(x, float)); #check x type\n",
        "\n",
        "\n"
      ],
      "metadata": {
        "id": "K7n4x6zbxKA2"
      },
      "execution_count": null,
      "outputs": []
    }
  ],
  "metadata": {
    "colab": {
      "provenance": [],
      "collapsed_sections": [
        "qymAr3iVFw5b",
        "kXAm-5xcLVxD",
        "KP_FLJEfAbqX",
        "u-3GPEKNJ3wu",
        "EFJurx9nGFOZ"
      ],
      "include_colab_link": true
    },
    "kernelspec": {
      "display_name": "Python 3",
      "name": "python3"
    },
    "language_info": {
      "name": "python"
    }
  },
  "nbformat": 4,
  "nbformat_minor": 0
}